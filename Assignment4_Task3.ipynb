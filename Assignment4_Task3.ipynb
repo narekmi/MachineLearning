{
  "nbformat": 4,
  "nbformat_minor": 0,
  "metadata": {
    "colab": {
      "provenance": [],
      "authorship_tag": "ABX9TyPk2PHoj4Ok6GQKKBeE/DDi",
      "include_colab_link": true
    },
    "kernelspec": {
      "name": "python3",
      "display_name": "Python 3"
    },
    "language_info": {
      "name": "python"
    }
  },
  "cells": [
    {
      "cell_type": "markdown",
      "metadata": {
        "id": "view-in-github",
        "colab_type": "text"
      },
      "source": [
        "<a href=\"https://colab.research.google.com/github/narekmi/MachineLearning/blob/main/Assignment4_Task3.ipynb\" target=\"_parent\"><img src=\"https://colab.research.google.com/assets/colab-badge.svg\" alt=\"Open In Colab\"/></a>"
      ]
    },
    {
      "cell_type": "code",
      "source": [
        "pip install kmodes"
      ],
      "metadata": {
        "colab": {
          "base_uri": "https://localhost:8080/"
        },
        "id": "KfLIJQxnIFyn",
        "outputId": "00936176-cd87-4928-819c-a4c541f39954"
      },
      "execution_count": 2,
      "outputs": [
        {
          "output_type": "stream",
          "name": "stdout",
          "text": [
            "Collecting kmodes\n",
            "  Downloading kmodes-0.12.2-py2.py3-none-any.whl.metadata (8.1 kB)\n",
            "Requirement already satisfied: numpy>=1.10.4 in /usr/local/lib/python3.10/dist-packages (from kmodes) (1.26.4)\n",
            "Requirement already satisfied: scikit-learn>=0.22.0 in /usr/local/lib/python3.10/dist-packages (from kmodes) (1.5.2)\n",
            "Requirement already satisfied: scipy>=0.13.3 in /usr/local/lib/python3.10/dist-packages (from kmodes) (1.13.1)\n",
            "Requirement already satisfied: joblib>=0.11 in /usr/local/lib/python3.10/dist-packages (from kmodes) (1.4.2)\n",
            "Requirement already satisfied: threadpoolctl>=3.1.0 in /usr/local/lib/python3.10/dist-packages (from scikit-learn>=0.22.0->kmodes) (3.5.0)\n",
            "Downloading kmodes-0.12.2-py2.py3-none-any.whl (20 kB)\n",
            "Installing collected packages: kmodes\n",
            "Successfully installed kmodes-0.12.2\n"
          ]
        }
      ]
    },
    {
      "cell_type": "code",
      "source": [
        "from kmodes.kmodes import KModes\n",
        "import pandas as pd\n",
        "from sklearn.preprocessing import LabelEncoder\n",
        "import matplotlib.pyplot as plt"
      ],
      "metadata": {
        "id": "UYHR5-KDHgcT"
      },
      "execution_count": 13,
      "outputs": []
    },
    {
      "cell_type": "code",
      "source": [
        "#Titanic Dataset (Categorical Features Only)\n",
        "url = \"https://raw.githubusercontent.com/datasciencedojo/datasets/master/titanic.csv\"\n",
        "df = pd.read_csv(url)\n"
      ],
      "metadata": {
        "id": "6XCLVrvjHxUr"
      },
      "execution_count": 14,
      "outputs": []
    },
    {
      "cell_type": "code",
      "source": [
        "categorical_features = ['Pclass', 'Sex', 'Embarked']\n",
        "df_categorical = df[categorical_features].dropna()\n",
        "\n",
        "# Categorical Variable encoding\n",
        "encoder = LabelEncoder()\n",
        "for col in df_categorical.columns:\n",
        "    df_categorical[col] = encoder.fit_transform(df_categorical[col])\n"
      ],
      "metadata": {
        "id": "w4uMUGooIUC0"
      },
      "execution_count": 15,
      "outputs": []
    },
    {
      "cell_type": "code",
      "source": [
        "#K-Modes Clustering\n",
        "cost = []\n",
        "K = range(2, 10)\n",
        "for k in K:\n",
        "    km = KModes(n_clusters=k, init=\"Cao\", n_init=5, verbose=0)\n",
        "    km.fit(df_categorical)\n",
        "    cost.append(km.cost_)"
      ],
      "metadata": {
        "id": "aySNL8puIeyO"
      },
      "execution_count": 16,
      "outputs": []
    },
    {
      "cell_type": "code",
      "source": [
        "# Elbow Plot\n",
        "plt.figure(figsize=(8, 4))\n",
        "plt.plot(K, cost, \"bx-\")\n",
        "plt.xlabel(\"Clusters\")\n",
        "plt.ylabel(\"Cost\")\n",
        "plt.title(\"Elbow plot for Optimal K)\")\n",
        "plt.show()"
      ],
      "metadata": {
        "colab": {
          "base_uri": "https://localhost:8080/",
          "height": 410
        },
        "id": "m7qNmoxTIj0D",
        "outputId": "a82e6060-24ba-4c4a-e4b1-33310c70e3a8"
      },
      "execution_count": 21,
      "outputs": [
        {
          "output_type": "display_data",
          "data": {
            "text/plain": [
              "<Figure size 800x400 with 1 Axes>"
            ],
            "image/png": "[encoded data removed]"
          },
          "metadata": {}
        }
      ]
    },
    {
      "cell_type": "code",
      "source": [
        "# Cluster Visualization\n",
        "km = KModes(n_clusters=3, init=\"Cao\", n_init=5, verbose=0)\n",
        "labels = km.fit_predict(df_categorical)\n",
        "df_categorical[\"Cluster\"] = labels\n",
        "print(df_categorical.groupby(\"Cluster\").mean())\n"
      ],
      "metadata": {
        "colab": {
          "base_uri": "https://localhost:8080/"
        },
        "id": "KgFfJHMlIsut",
        "outputId": "0f27b4d4-df80-4b67-f75e-79e2067e6f48"
      },
      "execution_count": 22,
      "outputs": [
        {
          "output_type": "stream",
          "name": "stdout",
          "text": [
            "           Pclass       Sex  Embarked\n",
            "Cluster                              \n",
            "0        1.616766  0.784431  1.693114\n",
            "1        0.452381  0.000000  1.386905\n",
            "2        0.188679  1.000000  0.018868\n"
          ]
        }
      ]
    }
  ]
}